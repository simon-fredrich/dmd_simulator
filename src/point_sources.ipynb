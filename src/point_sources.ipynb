{
 "cells": [
  {
   "cell_type": "code",
   "execution_count": 1,
   "metadata": {},
   "outputs": [],
   "source": [
    "import numpy as np\n",
    "import matplotlib.pyplot as plt\n",
    "import matplotlib.colors\n",
    "from ipywidgets import interact, interactive, fixed, interact_manual\n",
    "import ipywidgets as widgets"
   ]
  },
  {
   "cell_type": "code",
   "execution_count": 2,
   "metadata": {},
   "outputs": [
    {
     "data": {
      "application/vnd.jupyter.widget-view+json": {
       "model_id": "b3c2aabf26994d249f68b19ec75a2ab6",
       "version_major": 2,
       "version_minor": 0
      },
      "text/plain": [
       "interactive(children=(FloatLogSlider(value=1.0, description='wavelength', max=2.0, min=-9.0, step=1.0), FloatS…"
      ]
     },
     "metadata": {},
     "output_type": "display_data"
    }
   ],
   "source": [
    "wavelength_slider = widgets.FloatLogSlider(base=10, min=-9, max=2, step=1)\n",
    "size_slider = widgets.FloatSlider(min=0, max=10, step=0.25, value=10)\n",
    "function_radio = widgets.RadioButtons(options=[('sin', 1), ('cos', 2)], value=1, description=\"Wavefunction:\")\n",
    "pos_slider_left = widgets.FloatSlider(min=0.1, max=10, step=0.25, value=0.1)\n",
    "pos_slider_right = widgets.FloatSlider(min=0.1, max=10, step=0.25, value=0.1)\n",
    "\n",
    "\n",
    "@interact(wavelength=wavelength_slider, size=size_slider, wave_function=function_radio, pos_left=pos_slider_left, pos_right=pos_slider_right)\n",
    "def draw(wavelength, size, wave_function, pos_left, pos_right):\n",
    "\n",
    "    # how many points to calculate\n",
    "    m, n = 1000, 1000\n",
    "\n",
    "    # defining the sample points in the xy plane\n",
    "    X = np.linspace(-size, size, m)\n",
    "    Y = np.linspace(-size, size, n)\n",
    "    X, Y = np.meshgrid(X, Y)\n",
    "\n",
    "    # defining the position of the two point sources\n",
    "    x_coords = np.array([-pos_left, pos_right])\n",
    "    y_coords = np.array([0, 0])\n",
    "\n",
    "    A = np.zeros((m, n))\n",
    "    for i in y_coords:\n",
    "        for j in x_coords:\n",
    "            L = np.sqrt(np.square(X-np.ones((m, n))*j)+\n",
    "                        np.square(Y-np.ones((m, n))*i))\n",
    "            theta = (L/wavelength) * 2 * np.pi\n",
    "            if wave_function == 1: A += np.sin(theta)/L\n",
    "            elif wave_function == 2: A += np.cos(theta)/L\n",
    "\n",
    "    A = np.abs(A)\n",
    "\n",
    "    ax = plt.axes()\n",
    "    ax.set_aspect('equal')\n",
    "    plt.title(\"Diffraction\")\n",
    "    plt.xlabel(\"x-axis\")\n",
    "    plt.ylabel(\"y-axis\")\n",
    "\n",
    "    graph = plt.pcolormesh(\n",
    "        X, Y, A, cmap=matplotlib.colors.LinearSegmentedColormap.from_list(\"\", ['black', 'red']))\n",
    "\n",
    "    plt.colorbar(graph, orientation='horizontal')\n",
    "    plt.show()"
   ]
  }
 ],
 "metadata": {
  "kernelspec": {
   "display_name": "dmd_simulator",
   "language": "python",
   "name": "python3"
  },
  "language_info": {
   "codemirror_mode": {
    "name": "ipython",
    "version": 3
   },
   "file_extension": ".py",
   "mimetype": "text/x-python",
   "name": "python",
   "nbconvert_exporter": "python",
   "pygments_lexer": "ipython3",
   "version": "3.11.9"
  }
 },
 "nbformat": 4,
 "nbformat_minor": 2
}
